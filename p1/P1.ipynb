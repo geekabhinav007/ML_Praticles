{
 "cells": [
  {
   "cell_type": "markdown",
   "id": "8c4c3db0",
   "metadata": {},
   "source": [
    "# **Praticle 1 : Data Preprocessing**"
   ]
  },
  {
   "cell_type": "code",
   "execution_count": 32,
   "id": "5ab3ac2e",
   "metadata": {},
   "outputs": [],
   "source": [
    "import pandas as pd\n",
    "from sklearn.impute import SimpleImputer\n",
    "from sklearn.preprocessing import LabelEncoder, StandardScaler\n"
   ]
  },
  {
   "cell_type": "code",
   "execution_count": 33,
   "id": "f183755c",
   "metadata": {},
   "outputs": [],
   "source": [
    "# Load the dataset\n",
    "data = pd.read_csv('data_house.csv')\n"
   ]
  },
  {
   "cell_type": "code",
   "execution_count": 34,
   "id": "bebfb647",
   "metadata": {},
   "outputs": [],
   "source": [
    "# Handling missing data\n",
    "imputer = SimpleImputer(missing_values=np.nan, strategy='mean')\n",
    "imputer.fit(data[['bedrooms', 'bathrooms']])\n",
    "data[['bedrooms', 'bathrooms']] = imputer.transform(data[['bedrooms', 'bathrooms']])\n"
   ]
  },
  {
   "cell_type": "code",
   "execution_count": 35,
   "id": "45a93fd7",
   "metadata": {},
   "outputs": [],
   "source": [
    "# Encoding the independent variable\n",
    "floors_encoder = LabelEncoder()\n",
    "data['floors'] = floors_encoder.fit_transform(data['floors'])\n",
    "\n",
    "# Encoding the dependent variable\n",
    "price_encoder = LabelEncoder()\n",
    "data['price'] = price_encoder.fit_transform(data['price'])\n"
   ]
  },
  {
   "cell_type": "code",
   "execution_count": 36,
   "id": "5a808a61",
   "metadata": {},
   "outputs": [],
   "source": [
    "# Feature Scaling\n",
    "scaler = StandardScaler()\n",
    "num_cols = ['bedrooms', 'bathrooms', 'floors']\n",
    "data[num_cols] = scaler.fit_transform(data[num_cols])\n",
    "data['price'] = scaler.fit_transform(data[['price']])\n"
   ]
  },
  {
   "cell_type": "code",
   "execution_count": 37,
   "id": "0cedb3cd",
   "metadata": {},
   "outputs": [],
   "source": [
    "# Data Splitting\n",
    "X = data.drop('price', axis=1)\n",
    "y = data['price']\n",
    "X_train, X_test, y_train, y_test = train_test_split(X, y, test_size=0.2, random_state=42)\n"
   ]
  },
  {
   "cell_type": "code",
   "execution_count": 38,
   "id": "e4e1d768",
   "metadata": {
    "scrolled": true
   },
   "outputs": [],
   "source": [
    "print(X)"
   ]
  },
  {
   "cell_type": "code",
   "execution_count": 39,
   "id": "017de8fa",
   "metadata": {},
   "outputs": [],
   "source": [
    "print(y)"
   ]
  },
  {
   "cell_type": "code",
   "execution_count": 40,
   "id": "7f35fa63",
   "metadata": {
    "scrolled": true
   },
   "outputs": [],
   "source": [
    "print(X_train)"
   ]
  },
  {
   "cell_type": "code",
   "execution_count": 41,
   "id": "8da82771",
   "metadata": {},
   "outputs": [],
   "source": [
    "print(X_test)"
   ]
  },
  {
   "cell_type": "code",
   "execution_count": 42,
   "id": "3f2b6eb5",
   "metadata": {},
   "outputs": [],
   "source": [
    "print(y_train)"
   ]
  },
  {
   "cell_type": "code",
   "execution_count": 43,
   "id": "b3d6f250",
   "metadata": {},
   "outputs": [],
   "source": [
    "print(y_test)"
   ]
  },
  {
   "cell_type": "markdown",
   "id": "3d370f36",
   "metadata": {},
   "source": [
    "## *Steps Followed :*\n",
    "\n",
    "- Handling missing data by imputing the missing values in the 'bedrooms' and 'bathrooms' columns with their respective means.\n",
    "- Encoding the categorical variable 'floors' using LabelEncoder to assign unique numeric labels to each category.\n",
    "- Encoding the dependent variable 'price' using LabelEncoder to convert it into numeric labels.\n",
    "- Performing feature scaling on the numerical columns 'bedrooms', 'bathrooms', 'floors', and the dependent variable 'price' using StandardScaler to standardize the values.\n",
    "- Splitting the preprocessed data into training and test sets using train_test_split for further analysis or model training.\n",
    "\n"
   ]
  },
  {
   "cell_type": "code",
   "execution_count": null,
   "id": "094d6c18",
   "metadata": {},
   "outputs": [],
   "source": []
  }
 ],
 "metadata": {
  "kernelspec": {
   "display_name": "Python 3 (ipykernel)",
   "language": "python",
   "name": "python3"
  },
  "language_info": {
   "codemirror_mode": {
    "name": "ipython",
    "version": 3
   },
   "file_extension": ".py",
   "mimetype": "text/x-python",
   "name": "python",
   "nbconvert_exporter": "python",
   "pygments_lexer": "ipython3",
   "version": "3.9.10"
  }
 },
 "nbformat": 4,
 "nbformat_minor": 5
}
